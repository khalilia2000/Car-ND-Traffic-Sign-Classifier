{
 "cells": [
  {
   "cell_type": "markdown",
   "metadata": {},
   "source": [
    "# Traffic Sign Classification with Keras\n",
    "\n",
    "Keras exists to make coding deep neural networks simpler. To demonstrate just how easy it is, you’re going to use Keras to build a convolutional neural network in a few dozen lines of code.\n",
    "\n",
    "You’ll be connecting the concepts from the previous lessons to the methods that Keras provides."
   ]
  },
  {
   "cell_type": "markdown",
   "metadata": {},
   "source": [
    "## Dataset\n",
    "\n",
    "The network you'll build with Keras is similar to the example that you can find in Keras’s GitHub repository that builds out a [convolutional neural network for MNIST](https://github.com/fchollet/keras/blob/master/examples/mnist_cnn.py). \n",
    "\n",
    "However, instead of using the [MNIST](http://yann.lecun.com/exdb/mnist/) dataset, you're going to use the [German Traffic Sign Recognition Benchmark](http://benchmark.ini.rub.de/?section=gtsrb&subsection=news) dataset that you've used previously.\n",
    "\n",
    "You can download pickle files with sanitized traffic sign data here."
   ]
  },
  {
   "cell_type": "markdown",
   "metadata": {},
   "source": [
    "## Overview\n",
    "\n",
    "Here are the steps you'll take to build the network:\n",
    "\n",
    "1. First load the training data and do a train/validation split.\n",
    "2. Preprocess data.\n",
    "3. Build a feedforward neural network to classify traffic signs.\n",
    "4. Build a convolutional neural network to classify traffic signs.\n",
    "5. Evaluate performance of final neural network on testing data.\n",
    "\n",
    "Keep an eye on the network’s accuracy over time. Once the accuracy reaches the 98% range, you can be confident that you’ve built and trained an effective model."
   ]
  },
  {
   "cell_type": "code",
   "execution_count": 1,
   "metadata": {
    "collapsed": false
   },
   "outputs": [],
   "source": [
    "import pickle\n",
    "import numpy as np\n",
    "from sklearn.model_selection import train_test_split\n",
    "import math"
   ]
  },
  {
   "cell_type": "markdown",
   "metadata": {},
   "source": [
    "## Load the Data\n",
    "\n",
    "Start by importing the data from the pickle file."
   ]
  },
  {
   "cell_type": "code",
   "execution_count": 8,
   "metadata": {
    "collapsed": false
   },
   "outputs": [
    {
     "name": "stdout",
     "output_type": "stream",
     "text": [
      "(39209, 32, 32, 3) (39209,)\n"
     ]
    }
   ],
   "source": [
    "# TODO: Implement load the data here.\n",
    "work_dir = 'C:\\\\Users\\\\ali.khalili\\\\Desktop\\\\Car-ND\\\\Lab3-keras\\\\'\n",
    "with open(work_dir+'train.p', 'rb') as f:\n",
    "    data = pickle.load(f)\n",
    "    \n",
    "X_all = data['features']\n",
    "y_all = data['labels']\n",
    "print(X_all.shape, y_all.shape)"
   ]
  },
  {
   "cell_type": "markdown",
   "metadata": {},
   "source": [
    "## Validate the Network\n",
    "Split the training data into a training and validation set.\n",
    "\n",
    "Measure the [validation accuracy](https://keras.io/models/sequential/) of the network after two training epochs.\n",
    "\n",
    "Hint: [Use the `train_test_split()` method](http://scikit-learn.org/stable/modules/generated/sklearn.model_selection.train_test_split.html) from scikit-learn."
   ]
  },
  {
   "cell_type": "code",
   "execution_count": 29,
   "metadata": {
    "collapsed": true
   },
   "outputs": [],
   "source": [
    "# TODO: Use `train_test_split` here.\n",
    "X_train, X_val, y_train, y_val = train_test_split(X_all,y_all,test_size=0.15, random_state=832289,stratify=y_all)\n"
   ]
  },
  {
   "cell_type": "code",
   "execution_count": 30,
   "metadata": {
    "collapsed": true
   },
   "outputs": [],
   "source": [
    "# STOP: Do not change the tests below. Your implementation should pass these tests. \n",
    "assert(X_train.shape[0] == y_train.shape[0]), \"The number of images is not equal to the number of labels.\"\n",
    "assert(X_train.shape[1:] == (32,32,3)), \"The dimensions of the images are not 32 x 32 x 3.\"\n",
    "assert(X_val.shape[0] == y_val.shape[0]), \"The number of images is not equal to the number of labels.\"\n",
    "assert(X_val.shape[1:] == (32,32,3)), \"The dimensions of the images are not 32 x 32 x 3.\""
   ]
  },
  {
   "cell_type": "markdown",
   "metadata": {},
   "source": [
    "## Preprocess the Data\n",
    "\n",
    "Now that you've loaded the training data, preprocess the data such that it's in the range between -0.5 and 0.5."
   ]
  },
  {
   "cell_type": "code",
   "execution_count": 32,
   "metadata": {
    "collapsed": false
   },
   "outputs": [
    {
     "name": "stdout",
     "output_type": "stream",
     "text": [
      "255 0\n",
      "255 0\n",
      "0.5 -0.5\n",
      "0.5 -0.5\n"
     ]
    }
   ],
   "source": [
    "# TODO: Implement data normalization here.\n",
    "\n",
    "print(X_train.max(), X_train.min())\n",
    "print(X_val.max(), X_val.min())\n",
    "\n",
    "X_train_norm = X_train - 127.5\n",
    "X_train_norm /= 255\n",
    "X_val_norm = X_val - 127.5\n",
    "X_val_norm /= 255\n",
    "\n",
    "print(X_train_norm.max(), X_train_norm.min())\n",
    "print(X_val_norm.max(), X_val_norm.min())\n",
    "\n",
    "X_train = X_train_norm\n",
    "X_val = X_val_norm\n"
   ]
  },
  {
   "cell_type": "code",
   "execution_count": 33,
   "metadata": {
    "collapsed": false
   },
   "outputs": [],
   "source": [
    "# STOP: Do not change the tests below. Your implementation should pass these tests. \n",
    "assert(math.isclose(np.min(X_train), -0.5, abs_tol=1e-5) and math.isclose(np.max(X_train), 0.5, abs_tol=1e-5)), \"The range of the training data is: %.1f to %.1f\" % (np.min(X_train), np.max(X_train))\n",
    "assert(math.isclose(np.min(X_val), -0.5, abs_tol=1e-5) and math.isclose(np.max(X_val), 0.5, abs_tol=1e-5)), \"The range of the validation data is: %.1f to %.1f\" % (np.min(X_val), np.max(X_val))"
   ]
  },
  {
   "cell_type": "markdown",
   "metadata": {},
   "source": [
    "## Build a Two-Layer Feedfoward Network\n",
    "\n",
    "The code you've written so far is for data processing, not specific to Keras. Here you're going to build Keras-specific code.\n",
    "\n",
    "Build a two-layer feedforward neural network, with 128 neurons in the fully-connected hidden layer. \n",
    "\n",
    "To get started, review the Keras documentation about [models](https://keras.io/models/sequential/) and [layers](https://keras.io/layers/core/).\n",
    "\n",
    "The Keras example of a [Multi-Layer Perceptron](https://github.com/fchollet/keras/blob/master/examples/mnist_mlp.py) network is similar to what you need to do here. Use that as a guide, but keep in mind that there are a number of differences."
   ]
  },
  {
   "cell_type": "code",
   "execution_count": 47,
   "metadata": {
    "collapsed": false
   },
   "outputs": [],
   "source": [
    "# TODO: Build a two-layer feedforward neural network with Keras here.\n",
    "\n",
    "from keras.models import Sequential\n",
    "from keras.layers.core import Dense, Activation, Dropout\n",
    "\n",
    "X_train = X_train.reshape(-1,3072)\n",
    "X_val = X_val.reshape(-1,3072)\n",
    "\n",
    "model = Sequential()\n",
    "model.add(Dense(128,input_dim=3072))\n",
    "model.add(Activation('relu'))\n",
    "model.add(Dense(43))\n",
    "model.add(Activation('softmax'))\n"
   ]
  },
  {
   "cell_type": "code",
   "execution_count": 48,
   "metadata": {
    "collapsed": true
   },
   "outputs": [],
   "source": [
    "# STOP: Do not change the tests below. Your implementation should pass these tests.\n",
    "dense_layers = []\n",
    "for l in model.layers:\n",
    "    if type(l) == Dense:\n",
    "        dense_layers.append(l)\n",
    "assert(len(dense_layers) == 2), \"There should be 2 Dense layers.\"\n",
    "d1 = dense_layers[0]\n",
    "d2 = dense_layers[1]\n",
    "assert(d1.input_shape == (None, 3072))\n",
    "assert(d1.output_shape == (None, 128))\n",
    "assert(d2.input_shape == (None, 128))\n",
    "assert(d2.output_shape == (None, 43))\n",
    "\n",
    "last_layer = model.layers[-1]\n",
    "assert(last_layer.activation.__name__ == 'softmax'), \"Last layer should be softmax activation, is {}.\".format(last_layer.activation.__name__)"
   ]
  },
  {
   "cell_type": "code",
   "execution_count": 49,
   "metadata": {
    "collapsed": false
   },
   "outputs": [
    {
     "name": "stdout",
     "output_type": "stream",
     "text": [
      "dense_8 (None, 3072) (None, 128) <function linear at 0x000000000EAB6BF8>\n",
      "activation_2 (None, 128) (None, 128) <function relu at 0x000000000EAB69D8>\n",
      "dense_9 (None, 128) (None, 43) <function linear at 0x000000000EAB6BF8>\n",
      "activation_3 (None, 43) (None, 43) <function softmax at 0x000000000EAB6840>\n"
     ]
    }
   ],
   "source": [
    "# Debugging\n",
    "for l in model.layers:\n",
    "    print(l.name, l.input_shape, l.output_shape, l.activation)"
   ]
  },
  {
   "cell_type": "markdown",
   "metadata": {},
   "source": [
    "## Train the Network\n",
    "Compile and train the network for 2 epochs. [Use the `adam` optimizer, with `categorical_crossentropy` loss.](https://keras.io/models/sequential/)\n",
    "\n",
    "Hint 1: In order to use categorical cross entropy, you will need to [one-hot encode the labels](https://github.com/fchollet/keras/blob/master/keras/utils/np_utils.py).\n",
    "\n",
    "Hint 2: In order to pass the input images to the fully-connected hidden layer, you will need to [reshape the input](https://github.com/fchollet/keras/blob/master/examples/mnist_mlp.py).\n",
    "\n",
    "Hint 3: Keras's `.fit()` method returns a `History.history` object, which the tests below use. Save that to a variable named `history`."
   ]
  },
  {
   "cell_type": "code",
   "execution_count": 59,
   "metadata": {
    "collapsed": false
   },
   "outputs": [
    {
     "name": "stdout",
     "output_type": "stream",
     "text": [
      "Train on 33327 samples, validate on 5882 samples\n",
      "Epoch 1/5\n",
      "33327/33327 [==============================] - 8s - loss: 0.3007 - acc: 0.9222 - val_loss: 0.3149 - val_acc: 0.9140\n",
      "Epoch 2/5\n",
      "33327/33327 [==============================] - 7s - loss: 0.2730 - acc: 0.9281 - val_loss: 0.3215 - val_acc: 0.9106\n",
      "Epoch 3/5\n",
      "33327/33327 [==============================] - 7s - loss: 0.2471 - acc: 0.9341 - val_loss: 0.3179 - val_acc: 0.9096\n",
      "Epoch 4/5\n",
      "33327/33327 [==============================] - 7s - loss: 0.2216 - acc: 0.9413 - val_loss: 0.2697 - val_acc: 0.9247\n",
      "Epoch 5/5\n",
      "33327/33327 [==============================] - 8s - loss: 0.1952 - acc: 0.9499 - val_loss: 0.2580 - val_acc: 0.9255\n"
     ]
    }
   ],
   "source": [
    "# TODO: Compile and train the model here.\n",
    "\n",
    "from sklearn.preprocessing import OneHotEncoder\n",
    "\n",
    "# defining the OneHotEncoder class, reshaping the label data and fitting/transforming to ohe format\n",
    "enc = OneHotEncoder(dtype=np.float32)\n",
    "y_train_ohe = enc.fit_transform(y_train.reshape(-1,1)).toarray()\n",
    "y_val_ohe = enc.fit_transform(y_val.reshape(-1,1)).toarray()\n",
    "\n",
    "#\n",
    "from keras.optimizers import Adam\n",
    "\n",
    "model.compile(loss='categorical_crossentropy',optimizer=Adam(lr=0.001),metrics=['accuracy'])\n",
    "\n",
    "b_size = 128\n",
    "n_epochs = 5\n",
    "history = model.fit(X_train, y_train_ohe, \n",
    "                    batch_size=b_size, \n",
    "                    nb_epoch=n_epochs, \n",
    "                    verbose=1, \n",
    "                    validation_data=(X_val, y_val_ohe))\n"
   ]
  },
  {
   "cell_type": "code",
   "execution_count": 60,
   "metadata": {
    "collapsed": false
   },
   "outputs": [],
   "source": [
    "# STOP: Do not change the tests below. Your implementation should pass these tests.\n",
    "assert(history.history['acc'][-1] > 0.92), \"The training accuracy was: %.3f\" % history.history['acc'][-1]\n",
    "assert(history.history['val_acc'][-1] > 0.9), \"The validation accuracy is: %.3f\" % history.history['val_acc'][-1]"
   ]
  },
  {
   "cell_type": "markdown",
   "metadata": {},
   "source": [
    "**Validation Accuracy**: (0.9255)"
   ]
  },
  {
   "cell_type": "markdown",
   "metadata": {},
   "source": [
    "## Congratulations\n",
    "You've built a feedforward neural network in Keras!\n",
    "\n",
    "Don't stop here! Next, you'll add a convolutional layer to drive.py."
   ]
  },
  {
   "cell_type": "markdown",
   "metadata": {},
   "source": [
    "## Convolutions\n",
    "Build a new network, similar to your existing network. Before the hidden layer, add a 3x3 [convolutional layer](https://keras.io/layers/convolutional/#convolution2d) with 32 filters and valid padding.\n",
    "\n",
    "Then compile and train the network.\n",
    "\n",
    "Hint 1: The Keras example of a [convolutional neural network](https://github.com/fchollet/keras/blob/master/examples/mnist_cnn.py) for MNIST would be a good example to review.\n",
    "\n",
    "Hint 2: Now that the first layer of the network is a convolutional layer, you no longer need to reshape the input images before passing them to the network. You might need to reload your training data to recover the original shape.\n",
    "\n",
    "Hint 3: Add a [`Flatten()` layer](https://keras.io/layers/core/#flatten) between the convolutional layer and the fully-connected hidden layer."
   ]
  },
  {
   "cell_type": "code",
   "execution_count": 69,
   "metadata": {
    "collapsed": false
   },
   "outputs": [
    {
     "name": "stdout",
     "output_type": "stream",
     "text": [
      "(33327, 32, 32, 3) (33327,) (33327, 43) (5882, 32, 32, 3) (5882,) (5882, 43)\n",
      "Train on 33327 samples, validate on 5882 samples\n",
      "Epoch 1/5\n",
      "33327/33327 [==============================] - 43s - loss: 0.8125 - acc: 0.7930 - val_loss: 0.3182 - val_acc: 0.9141\n",
      "Epoch 2/5\n",
      "33327/33327 [==============================] - 39s - loss: 0.1995 - acc: 0.9519 - val_loss: 0.2216 - val_acc: 0.9434\n",
      "Epoch 3/5\n",
      "33327/33327 [==============================] - 43s - loss: 0.1081 - acc: 0.9739 - val_loss: 0.1845 - val_acc: 0.9532\n",
      "Epoch 4/5\n",
      "33327/33327 [==============================] - 44s - loss: 0.0781 - acc: 0.9802 - val_loss: 0.1894 - val_acc: 0.9558\n",
      "Epoch 5/5\n",
      "33327/33327 [==============================] - 45s - loss: 0.0600 - acc: 0.9847 - val_loss: 0.1992 - val_acc: 0.9585\n"
     ]
    }
   ],
   "source": [
    "# TODO: Re-construct the network and add a convolutional layer before the first fully-connected layer.\n",
    "\n",
    "with open(work_dir+'train.p', 'rb') as f:\n",
    "    data = pickle.load(f)\n",
    "    \n",
    "X_all = data['features']\n",
    "y_all = data['labels']\n",
    "\n",
    "X_train, X_val, y_train, y_val = train_test_split(X_all,y_all,test_size=0.15, random_state=832289,stratify=y_all)\n",
    "\n",
    "X_train_norm = X_train - 127.5\n",
    "X_train_norm /= 255\n",
    "X_val_norm = X_val - 127.5\n",
    "X_val_norm /= 255\n",
    "\n",
    "X_train = X_train_norm\n",
    "X_val = X_val_norm\n",
    "\n",
    "# defining the OneHotEncoder class, reshaping the label data and fitting/transforming to ohe format\n",
    "enc = OneHotEncoder(dtype=np.float32)\n",
    "y_train_ohe = enc.fit_transform(y_train.reshape(-1,1)).toarray()\n",
    "y_val_ohe = enc.fit_transform(y_val.reshape(-1,1)).toarray()\n",
    "\n",
    "\n",
    "print(X_train.shape, y_train.shape, y_train_ohe.shape, X_val.shape, y_val.shape, y_val_ohe.shape)\n",
    "\n",
    "img_rows = 32\n",
    "img_cols = 32\n",
    "nb_filters = 32\n",
    "kernel_size = (3, 3)\n",
    "\n",
    "# TODO: Compile and train the model here.\n",
    "\n",
    "from keras.layers import Convolution2D, Flatten\n",
    "\n",
    "model = Sequential()\n",
    "\n",
    "model.add(Convolution2D(nb_filters, kernel_size[0], kernel_size[1],\n",
    "                       border_mode='valid',\n",
    "                       input_shape=(img_rows,img_cols,3)))\n",
    "\n",
    "model.add(Flatten())\n",
    "model.add(Dense(128))\n",
    "model.add(Activation('relu'))\n",
    "model.add(Dense(43))\n",
    "model.add(Activation('softmax'))\n",
    "\n",
    "\n",
    "model.compile(loss='categorical_crossentropy',optimizer=Adam(lr=0.001),metrics=['accuracy'])\n",
    "\n",
    "b_size = 128\n",
    "n_epochs = 5\n",
    "history = model.fit(X_train, y_train_ohe, \n",
    "                    batch_size=b_size, \n",
    "                    nb_epoch=n_epochs, \n",
    "                    verbose=1, \n",
    "                    validation_data=(X_val, y_val_ohe))"
   ]
  },
  {
   "cell_type": "code",
   "execution_count": 70,
   "metadata": {
    "collapsed": true
   },
   "outputs": [],
   "source": [
    "# STOP: Do not change the tests below. Your implementation should pass these tests.\n",
    "assert(history.history['val_acc'][-1] > 0.95), \"The validation accuracy is: %.3f\" % history.history['val_acc'][-1]"
   ]
  },
  {
   "cell_type": "markdown",
   "metadata": {},
   "source": [
    "**Validation Accuracy**: (0.9585)"
   ]
  },
  {
   "cell_type": "markdown",
   "metadata": {},
   "source": [
    "## Pooling\n",
    "Re-construct your network and add a 2x2 [pooling layer](https://keras.io/layers/pooling/#maxpooling2d) immediately following your convolutional layer.\n",
    "\n",
    "Then compile and train the network."
   ]
  },
  {
   "cell_type": "code",
   "execution_count": 73,
   "metadata": {
    "collapsed": false
   },
   "outputs": [
    {
     "name": "stdout",
     "output_type": "stream",
     "text": [
      "Train on 33327 samples, validate on 5882 samples\n",
      "Epoch 1/5\n",
      "33327/33327 [==============================] - 28s - loss: 1.1806 - acc: 0.6957 - val_loss: 0.4285 - val_acc: 0.8907\n",
      "Epoch 2/5\n",
      "33327/33327 [==============================] - 27s - loss: 0.2686 - acc: 0.9384 - val_loss: 0.2456 - val_acc: 0.9464\n",
      "Epoch 3/5\n",
      "33327/33327 [==============================] - 27s - loss: 0.1507 - acc: 0.9665 - val_loss: 0.1704 - val_acc: 0.9589\n",
      "Epoch 4/5\n",
      "33327/33327 [==============================] - 27s - loss: 0.0941 - acc: 0.9796 - val_loss: 0.1571 - val_acc: 0.9599\n",
      "Epoch 5/5\n",
      "33327/33327 [==============================] - 27s - loss: 0.0671 - acc: 0.9863 - val_loss: 0.1342 - val_acc: 0.9679\n"
     ]
    }
   ],
   "source": [
    "# TODO: Re-construct the network and add a pooling layer after the convolutional layer.\n",
    "\n",
    "from keras.layers import MaxPooling2D\n",
    "\n",
    "pool_size = (2,2)\n",
    "\n",
    "model = Sequential()\n",
    "\n",
    "model.add(Convolution2D(nb_filters, kernel_size[0], kernel_size[1],\n",
    "                       border_mode='valid',\n",
    "                       input_shape=(img_rows,img_cols,3)))\n",
    "\n",
    "model.add(MaxPooling2D(pool_size=pool_size))\n",
    "model.add(Flatten())\n",
    "model.add(Dense(128))\n",
    "model.add(Activation('relu'))\n",
    "model.add(Dense(43))\n",
    "model.add(Activation('softmax'))\n",
    "\n",
    "\n",
    "# TODO: Compile and train the model here.\n",
    "\n",
    "model.compile(loss='categorical_crossentropy',optimizer=Adam(lr=0.001),metrics=['accuracy'])\n",
    "\n",
    "b_size = 128\n",
    "n_epochs = 5\n",
    "history = model.fit(X_train, y_train_ohe, \n",
    "                    batch_size=b_size, \n",
    "                    nb_epoch=n_epochs, \n",
    "                    verbose=1, \n",
    "                    validation_data=(X_val, y_val_ohe))"
   ]
  },
  {
   "cell_type": "code",
   "execution_count": 74,
   "metadata": {
    "collapsed": true
   },
   "outputs": [],
   "source": [
    "# STOP: Do not change the tests below. Your implementation should pass these tests.\n",
    "assert(history.history['val_acc'][-1] > 0.95), \"The validation accuracy is: %.3f\" % history.history['val_acc'][-1]"
   ]
  },
  {
   "cell_type": "markdown",
   "metadata": {},
   "source": [
    "**Validation Accuracy**: (0.9679)"
   ]
  },
  {
   "cell_type": "markdown",
   "metadata": {},
   "source": [
    "## Dropout\n",
    "Re-construct your network and add [dropout](https://keras.io/layers/core/#dropout) after the pooling layer. Set the dropout rate to 50%."
   ]
  },
  {
   "cell_type": "code",
   "execution_count": 75,
   "metadata": {
    "collapsed": false
   },
   "outputs": [
    {
     "name": "stdout",
     "output_type": "stream",
     "text": [
      "Train on 33327 samples, validate on 5882 samples\n",
      "Epoch 1/5\n",
      "33327/33327 [==============================] - 35s - loss: 1.2858 - acc: 0.6599 - val_loss: 0.4891 - val_acc: 0.8914\n",
      "Epoch 2/5\n",
      "33327/33327 [==============================] - 34s - loss: 0.3358 - acc: 0.9162 - val_loss: 0.2484 - val_acc: 0.9447\n",
      "Epoch 3/5\n",
      "33327/33327 [==============================] - 34s - loss: 0.2076 - acc: 0.9484 - val_loss: 0.1799 - val_acc: 0.9563\n",
      "Epoch 4/5\n",
      "33327/33327 [==============================] - 34s - loss: 0.1538 - acc: 0.9601 - val_loss: 0.1447 - val_acc: 0.9677\n",
      "Epoch 5/5\n",
      "33327/33327 [==============================] - 34s - loss: 0.1215 - acc: 0.9686 - val_loss: 0.1366 - val_acc: 0.9680\n"
     ]
    }
   ],
   "source": [
    "# TODO: Re-construct the network and add dropout after the pooling layer.\n",
    "\n",
    "from keras.layers import Dropout\n",
    "\n",
    "model = Sequential()\n",
    "\n",
    "model.add(Convolution2D(nb_filters, kernel_size[0], kernel_size[1],\n",
    "                       border_mode='valid',\n",
    "                       input_shape=(img_rows,img_cols,3)))\n",
    "\n",
    "model.add(MaxPooling2D(pool_size=pool_size))\n",
    "model.add(Dropout(0.5))\n",
    "model.add(Flatten())\n",
    "model.add(Dense(128))\n",
    "model.add(Activation('relu'))\n",
    "model.add(Dense(43))\n",
    "model.add(Activation('softmax'))\n",
    "\n",
    "\n",
    "# TODO: Compile and train the model here.\n",
    "\n",
    "model.compile(loss='categorical_crossentropy',optimizer=Adam(lr=0.001),metrics=['accuracy'])\n",
    "\n",
    "b_size = 128\n",
    "n_epochs = 5\n",
    "history = model.fit(X_train, y_train_ohe, \n",
    "                    batch_size=b_size, \n",
    "                    nb_epoch=n_epochs, \n",
    "                    verbose=1, \n",
    "                    validation_data=(X_val, y_val_ohe))"
   ]
  },
  {
   "cell_type": "code",
   "execution_count": 76,
   "metadata": {
    "collapsed": true
   },
   "outputs": [],
   "source": [
    "# STOP: Do not change the tests below. Your implementation should pass these tests.\n",
    "assert(history.history['val_acc'][-1] > 0.95), \"The validation accuracy is: %.3f\" % history.history['val_acc'][-1]"
   ]
  },
  {
   "cell_type": "markdown",
   "metadata": {
    "collapsed": true
   },
   "source": [
    "**Validation Accuracy**: (0.9680)"
   ]
  },
  {
   "cell_type": "markdown",
   "metadata": {},
   "source": [
    "## Optimization\n",
    "Congratulations! You've built a neural network with convolutions, pooling, dropout, and fully-connected layers, all in just a few lines of code.\n",
    "\n",
    "Have fun with the model and see how well you can do! Add more layers, or regularization, or different padding, or batches, or more training epochs.\n",
    "\n",
    "What is the best validation accuracy you can achieve?"
   ]
  },
  {
   "cell_type": "code",
   "execution_count": 87,
   "metadata": {
    "collapsed": false
   },
   "outputs": [
    {
     "name": "stdout",
     "output_type": "stream",
     "text": [
      "Train on 33327 samples, validate on 5882 samples\n",
      "Epoch 1/5\n",
      "33327/33327 [==============================] - 46s - loss: 1.4234 - acc: 0.6070 - val_loss: 0.3686 - val_acc: 0.9033\n",
      "Epoch 2/5\n",
      "33327/33327 [==============================] - 45s - loss: 0.3279 - acc: 0.9066 - val_loss: 0.1718 - val_acc: 0.9602\n",
      "Epoch 3/5\n",
      "33327/33327 [==============================] - 45s - loss: 0.1983 - acc: 0.9419 - val_loss: 0.1135 - val_acc: 0.9748\n",
      "Epoch 4/5\n",
      "33327/33327 [==============================] - 40s - loss: 0.1293 - acc: 0.9630 - val_loss: 0.0733 - val_acc: 0.9840\n",
      "Epoch 5/5\n",
      "33327/33327 [==============================] - 35s - loss: 0.0987 - acc: 0.9727 - val_loss: 0.0724 - val_acc: 0.9816\n"
     ]
    }
   ],
   "source": [
    "from keras.layers import AveragePooling2D\n",
    "\n",
    "img_rows = 32\n",
    "img_cols = 32\n",
    "\n",
    "model = Sequential()\n",
    "\n",
    "nb_filters1 = 32\n",
    "k_size1 = (5, 5)\n",
    "model.add(Convolution2D(nb_filters1, k_size1[0], k_size1[1],\n",
    "                       border_mode='valid',\n",
    "                       input_shape=(img_rows,img_cols,3)))\n",
    "\n",
    "model.add(MaxPooling2D(pool_size=pool_size))\n",
    "model.add(Activation('relu'))\n",
    "\n",
    "nb_filters2 = 64\n",
    "k_size2 = (3, 3)\n",
    "model.add(Convolution2D(nb_filters2, k_size2[0], k_size2[1],\n",
    "                       border_mode='valid',\n",
    "                       input_shape=(28,28,32)))\n",
    "\n",
    "model.add(MaxPooling2D(pool_size=pool_size))\n",
    "model.add(Dropout(0.5))\n",
    "model.add(Activation('relu'))\n",
    "\n",
    "model.add(Flatten())\n",
    "model.add(Dense(128))\n",
    "model.add(Activation('relu'))\n",
    "model.add(Dense(64))\n",
    "model.add(Activation('relu'))\n",
    "model.add(Dense(43))\n",
    "model.add(Activation('softmax'))\n",
    "\n",
    "\n",
    "# compiling and training the model\n",
    "\n",
    "model.compile(loss='categorical_crossentropy',optimizer=Adam(lr=0.001),metrics=['accuracy'])\n",
    "\n",
    "b_size = 128\n",
    "n_epochs = 5\n",
    "history = model.fit(X_train, y_train_ohe, \n",
    "                    batch_size=b_size, \n",
    "                    nb_epoch=n_epochs, \n",
    "                    verbose=1, \n",
    "                    validation_data=(X_val, y_val_ohe))"
   ]
  },
  {
   "cell_type": "markdown",
   "metadata": {},
   "source": [
    "**Best Validation Accuracy:** \n",
    "\n",
    "Changed kernel size to 5x5 (0.9725)\n",
    "\n",
    "Added a 2nd convolution layer with 3x3 kernel + max pooling before + relu before (0.9830)\n",
    "\n",
    "increased the number of filters in the 2nd conv layer to 64 (0.9849)\n",
    "\n",
    "added a dropout after the first convolution's relu (0.9832) - reversing this operation.\n",
    "\n",
    "added an activation after the second convolution (0.9847)\n",
    "\n",
    "changed the first maxpooling to averagepooling (0.9815) - reverting back to MaxPool\n",
    "\n",
    "changed the second maxpooling to averagepooling (0.9551) - reverting back to MaxPool\n",
    "\n",
    "changed the one to last activation to sigmoid (0.9801) - reverting back to relu\n",
    "\n",
    "changed the size of the fully connected layer to 256 (0.9816) - reverting back\n",
    "\n",
    "adding another fully connected layer with 64 nodes + relu activation ()"
   ]
  },
  {
   "cell_type": "markdown",
   "metadata": {},
   "source": [
    "## Testing\n",
    "Once you've picked out your best model, it's time to test it.\n",
    "\n",
    "Load up the test data and use the [`evaluate()` method](https://keras.io/models/model/#evaluate) to see how well it does.\n",
    "\n",
    "Hint 1: The `evaluate()` method should return an array of numbers. Use the `metrics_names()` method to get the labels."
   ]
  },
  {
   "cell_type": "code",
   "execution_count": null,
   "metadata": {
    "collapsed": false
   },
   "outputs": [],
   "source": [
    "# TODO: Load test data\n",
    "    \n",
    "# TODO: Preprocess data & one-hot encode the labels\n",
    "\n",
    "# TODO: Evaluate model on test data"
   ]
  },
  {
   "cell_type": "markdown",
   "metadata": {},
   "source": [
    "**Test Accuracy:** (fill in here)"
   ]
  },
  {
   "cell_type": "markdown",
   "metadata": {},
   "source": [
    "## Summary\n",
    "Keras is a great tool to use if you want to quickly build a neural network and evaluate performance."
   ]
  }
 ],
 "metadata": {
  "anaconda-cloud": {},
  "kernelspec": {
   "display_name": "Python [Root]",
   "language": "python",
   "name": "Python [Root]"
  },
  "language_info": {
   "codemirror_mode": {
    "name": "ipython",
    "version": 3
   },
   "file_extension": ".py",
   "mimetype": "text/x-python",
   "name": "python",
   "nbconvert_exporter": "python",
   "pygments_lexer": "ipython3",
   "version": "3.5.2"
  }
 },
 "nbformat": 4,
 "nbformat_minor": 0
}
